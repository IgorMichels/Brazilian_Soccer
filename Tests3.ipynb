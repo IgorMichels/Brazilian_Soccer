{
 "cells": [
  {
   "cell_type": "code",
   "execution_count": 1,
   "id": "96d0f658",
   "metadata": {},
   "outputs": [],
   "source": [
    "from numpy.random import poisson, multivariate_normal\n",
    "from glob import glob\n",
    "\n",
    "import os\n",
    "import json\n",
    "import numpy as np\n",
    "import matplotlib.pyplot as plt\n",
    "\n",
    "def bivariate_poisson(lamb_1 = 1, lamb_2 = 1, lamb_3 = 0, size = 1):\n",
    "    X_1 = poisson(lamb_1, size)\n",
    "    X_2 = poisson(lamb_2, size)\n",
    "    X_3 = poisson(lamb_3, size)\n",
    "    Y_1 = X_1 + X_3\n",
    "    Y_2 = X_2 + X_3\n",
    "    \n",
    "    return np.vstack([Y_1, Y_2]).T\n",
    "\n",
    "def is_positive_semidefinite(x, y, z):\n",
    "    t1 = x + z - (x**2 - 2 * x * z + 4 * y**2 + z**2)**(1/2) >= 0\n",
    "    t2 = x + z + (x**2 - 2 * x * z + 4 * y**2 + z**2)**(1/2) >= 0\n",
    "    \n",
    "    return t1 * t2"
   ]
  },
  {
   "cell_type": "code",
   "execution_count": 2,
   "id": "a8c791c9",
   "metadata": {},
   "outputs": [
    {
     "data": {
      "text/plain": [
       "array([[ 0.06623183,  0.16958461],\n",
       "       [ 2.31707341,  2.01237404],\n",
       "       [ 3.01595923,  1.01851483],\n",
       "       [ 0.17759777,  3.28184812],\n",
       "       [-1.41130153, -1.72813033],\n",
       "       [ 0.65811192,  1.18763117],\n",
       "       [ 3.79034563,  1.60210144],\n",
       "       [ 0.94855783,  1.6185239 ],\n",
       "       [-0.73347217,  1.94866329],\n",
       "       [ 1.45080569,  2.01515312]])"
      ]
     },
     "execution_count": 2,
     "metadata": {},
     "output_type": "execute_result"
    }
   ],
   "source": [
    "mu1, mu2 = 1, 2\n",
    "x, y, z = 2, 1, 2\n",
    "multivariate_normal([mu1, mu2], [[x, y], [y, z]], 10)"
   ]
  },
  {
   "cell_type": "code",
   "execution_count": 3,
   "id": "998536f2",
   "metadata": {},
   "outputs": [
    {
     "data": {
      "text/plain": [
       "array([[2, 0],\n",
       "       [0, 0],\n",
       "       [0, 2],\n",
       "       [2, 0],\n",
       "       [0, 2],\n",
       "       [1, 0],\n",
       "       [1, 1],\n",
       "       [0, 0],\n",
       "       [0, 1],\n",
       "       [0, 1]])"
      ]
     },
     "execution_count": 3,
     "metadata": {},
     "output_type": "execute_result"
    }
   ],
   "source": [
    "bivariate_poisson(lamb_1 = 1, lamb_2 = 1, lamb_3 = 0, size = 10)"
   ]
  }
 ],
 "metadata": {
  "kernelspec": {
   "display_name": "Python 3 (ipykernel)",
   "language": "python",
   "name": "python3"
  },
  "language_info": {
   "codemirror_mode": {
    "name": "ipython",
    "version": 3
   },
   "file_extension": ".py",
   "mimetype": "text/x-python",
   "name": "python",
   "nbconvert_exporter": "python",
   "pygments_lexer": "ipython3",
   "version": "3.8.10"
  }
 },
 "nbformat": 4,
 "nbformat_minor": 5
}
