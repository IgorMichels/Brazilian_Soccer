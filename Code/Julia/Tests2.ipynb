{
 "cells": [
  {
   "cell_type": "code",
   "execution_count": 80,
   "id": "fd12ceb3",
   "metadata": {},
   "outputs": [],
   "source": [
    "using Plots\n",
    "using Optim\n",
    "using Random\n",
    "using StatsBase\n",
    "using Statistics\n",
    "using Distributions\n",
    "using LinearAlgebra"
   ]
  },
  {
   "cell_type": "markdown",
   "id": "b44a4220",
   "metadata": {},
   "source": [
    "Inicialmente, vamos elaborar funções para gerar jogadores aleatórios e simular campeonatos, além de outra para, dados os resultados, calcular a verossimilhança dos parâmetros em teste (função que deve ser maximizada).\n",
    "\n",
    "```create_players``` recebe como parâmetros a quantidade de clubes e jogadores em cada clube e cria jogadores aleatórios.\n",
    "\n",
    "```simulating_game``` recebe dois clubes e uma quantidade de simulações e simula os jogos entre esses dois clubes por meio de uma Poisson com média $\\lambda = \\frac{\\lambda_a}{\\lambda_d}$, onde $\\lambda_a$ é o somatório das forças dos jogadores do clube atacante ($\\mathcal{C}_a$) e $\\lambda_d$ é o somatório das forças dos jogadores do clube defensor ($\\mathcal{C}_d$).\n",
    "\n",
    "```create_games``` recebe a quantidade de temporadas, clubes e jogadores por clube e cria jogos entre todos os clubes simulando essas temporadas.\n",
    "\n",
    "```likelihood``` recebe os resultados e um conjunto de parâmetros e retorna a log verossimilhança negativa desses parâmetros com o resultado.\n",
    "\n",
    "```gradient``` gradiente da função likelihood.\n",
    "\n",
    "As duas últimas funções podem ser melhores explicadas matematicamente, dessa forma, como explicado anteriormente, cada placar é composto por duas variáveis aleatórias vindas de uma Poisson com média igual a razão das somas das forças dos dois clubes, assim seja $k$ a quantidade de gols de um clube contra outro, $\\lambda_a$ a soma das forças do clube que marcou os gols e $\\lambda_d$ do clube que sofreu. Dessa forma, a verossimilhança desse pedaço de placar é dada por $P(X = k | proficiências) = \\frac{\\lambda^k\\exp{-\\lambda}}{k!}$, onde $\\lambda = \\frac{\\lambda_a}{\\lambda_d}$. Note que a verossimilhança total é o produto de todos os \"pedaços\" de placar, mas, como cada fator desses é um valor em $[0, 1]$, isso se torna muito pequeno, podendo ocorrer underflow error, por isso opta-se a usar o log da verossimilhança (como o log é uma função estritamente crescente, a comparação entre os resultados é mantida). Por fim, os fatores se tornam parcelas, agora todas negativas, então multiplicamos por $-1$, transformando essa métrica num valor positivo e, mais importante, mudando o problema para um problema de minimização.\n",
    "\n",
    "Agora, como citado no parágrafo anterior, cada parcela da verossimilhança é dada pela expressão $-\\log{\\frac{\\lambda^k\\exp{-\\lambda}}{k!}}$, dessa forma, para cada jogador $j$, temos que a derivada dessa parcela, em relação ao jogador $j$, será:\n",
    "  - $0$, se $j \\notin \\mathcal{C}_a \\land j \\notin \\mathcal{C}_d$;\n",
    "  - $\\dfrac{\\lambda_d - \\lambda_a}{\\lambda_d^2} + k \\left(\\dfrac{1}{\\lambda_d} - \\dfrac{1}{\\lambda_a}\\right)$, se $j \\in \\mathcal{C}_a \\land j \\in \\mathcal{C}_d$;\n",
    "  - $\\dfrac{1}{\\lambda_d} - \\dfrac{k}{\\lambda_a}$, se $j \\in \\mathcal{C}_a \\land j \\notin \\mathcal{C}_d$ e;\n",
    "  - $-\\dfrac{\\lambda_a}{\\lambda_d^2} + \\dfrac{k}{\\lambda_d}$, se $j \\notin \\mathcal{C}_a \\land j \\in \\mathcal{C}_d$.\n",
    "  \n",
    "Assim, passando por cada jogo e fazendo as derivadas parciais em relação a cada jogador, chegamos ao gradiente da função de verossimilhança."
   ]
  },
  {
   "cell_type": "code",
   "execution_count": 81,
   "id": "90f43f42",
   "metadata": {},
   "outputs": [
    {
     "data": {
      "text/plain": [
       "Dict{Int64, Vector{Float64}} with 220 entries:\n",
       "  56  => [0.0248283, 0.0598957]\n",
       "  35  => [0.0418642, 0.0313879]\n",
       "  60  => [0.0617867, 0.0255398]\n",
       "  220 => [0.107608, 0.0268199]\n",
       "  67  => [0.00262926, 0.0500701]\n",
       "  215 => [0.0175409, 0.0797272]\n",
       "  73  => [0.0291035, 0.0703364]\n",
       "  115 => [0.146039, 0.0619473]\n",
       "  112 => [0.124281, 0.105112]\n",
       "  185 => [0.0669452, 0.0562891]\n",
       "  86  => [0.029753, 0.0247484]\n",
       "  168 => [0.0186791, 0.110752]\n",
       "  207 => [0.0102838, 0.027709]\n",
       "  183 => [0.00089305, 0.0109503]\n",
       "  177 => [0.114682, 0.115224]\n",
       "  12  => [0.0577733, 0.0214049]\n",
       "  75  => [0.0233652, 0.0622802]\n",
       "  23  => [0.0426478, 0.0343346]\n",
       "  111 => [0.0699207, 0.121672]\n",
       "  41  => [0.0642761, 0.058417]\n",
       "  68  => [0.0645152, 0.0420932]\n",
       "  82  => [0.0428453, 0.0780191]\n",
       "  130 => [0.00745266, 0.0718609]\n",
       "  125 => [0.0184421, 0.0916608]\n",
       "  77  => [0.0456007, 0.10198]\n",
       "  ⋮   => ⋮"
      ]
     },
     "execution_count": 81,
     "metadata": {},
     "output_type": "execute_result"
    }
   ],
   "source": [
    "function creat_players(clubs, players_per_club, mean = 0, var = 1, lb = 0, ub = 100)\n",
    "    all_players = rand(Truncated(Normal(mean, var), lb, ub), (2 * clubs * players_per_club, 2))\n",
    "    all_players[:, 1] = all_players[:, 1] / (sum(all_players[:, 1]) / clubs)\n",
    "    all_players[:, 2] = all_players[:, 2] / (sum(all_players[:, 2]) / clubs)\n",
    "    players = Dict{Int64, Vector{Float64}}()\n",
    "    for i in 1:(clubs * players_per_club)\n",
    "        players[i] = all_players[i, :];\n",
    "    end\n",
    "    return players\n",
    "end\n",
    "\n",
    "creat_players(20, 11)"
   ]
  },
  {
   "cell_type": "code",
   "execution_count": 82,
   "id": "9a9ab982",
   "metadata": {},
   "outputs": [],
   "source": [
    "# function creat_players(clubs, players_per_club, mean = 0, var = 1, lb = 0, ub = 100)\n",
    "#     all_players_atk = rand(Truncated(Normal(mean, var), lb, ub), clubs * players_per_club);\n",
    "#     all_players_atk = all_players_atk / (sum(all_players_atk) / clubs);\n",
    "#     players_atk = Dict{Int64, Float64}(zip(1:clubs * players_per_club, all_players_atk));\n",
    "    \n",
    "#     all_players_def = rand(Truncated(Normal(mean, var), lb, ub), clubs * players_per_club);\n",
    "#     all_players_def = all_players_def / (sum(all_players_atk) / clubs);\n",
    "#     players_def = Dict{Int64, Float64}(zip(1:clubs * players_per_club, all_players_def));\n",
    "#     return players_atk, players_def\n",
    "# end;\n",
    "\n",
    "# atk, def = creat_players(20, 11);\n",
    "# atk, def"
   ]
  },
  {
   "cell_type": "code",
   "execution_count": 83,
   "id": "a3919405",
   "metadata": {},
   "outputs": [],
   "source": [
    "function simulating_game(λatk₁, λatk₂, λdef₁, λdef₂, sims = 1000000)\n",
    "    X₁ = Poisson(λatk₁ / λdef₂);\n",
    "    X₂ = Poisson(λatk₂ / λdef₁);\n",
    "    Y₁ = rand(X₁, sims);\n",
    "    Y₂ = rand(X₂, sims);\n",
    "    wins₁ = sum(Y₁ .> Y₂);\n",
    "    draws = sum(Y₁ .== Y₂);\n",
    "    wins₂ = sum(Y₁ .< Y₂);\n",
    "    return wins₁, draws, wins₂\n",
    "end;"
   ]
  },
  {
   "cell_type": "code",
   "execution_count": 84,
   "id": "dbc5943c",
   "metadata": {},
   "outputs": [],
   "source": [
    "function create_games(seasons, clubs, ppc)\n",
    "    results = [[[0 for i in 1:4] for j in 1:clubs * (clubs - 1)] for s in 1:seasons];\n",
    "    players = creat_players(clubs, ppc);\n",
    "    squads = [];\n",
    "    for s in 1:seasons\n",
    "        line = 1;\n",
    "        append!(squads, [reshape(shuffle(collect(1:length(players))), (clubs, ppc))]);\n",
    "        clubs_atks = convert(Matrix{Float64}, (deepcopy(last(squads))));\n",
    "        clubs_defs = convert(Matrix{Float64}, (deepcopy(last(squads))));\n",
    "        for i in 1:clubs\n",
    "            for j in 1:ppc\n",
    "                clubs_atks[i, j] = players[clubs_atks[i, j]][1];\n",
    "                clubs_defs[i, j] = players[clubs_defs[i, j]][2];\n",
    "            end\n",
    "        end\n",
    "\n",
    "        for j in 1:clubs\n",
    "            for k in 1:clubs\n",
    "                if j != k\n",
    "                    Xⱼ = Poisson(sum(clubs_atks[j, :]) / sum(clubs_defs[k, :]));\n",
    "                    Xₖ = Poisson(sum(clubs_atks[k, :]) / sum(clubs_defs[j, :]));\n",
    "                    results[s][line][1] = j;\n",
    "                    results[s][line][2] = rand(Xⱼ);\n",
    "                    results[s][line][3] = rand(Xₖ);\n",
    "                    results[s][line][4] = k;\n",
    "                    line += 1;\n",
    "                end\n",
    "            end\n",
    "        end\n",
    "    end\n",
    "    return results, squads, players\n",
    "end;\n",
    "\n",
    "results, squads, players = create_games(10, 20, 11);"
   ]
  },
  {
   "cell_type": "code",
   "execution_count": 85,
   "id": "a5dddf3a",
   "metadata": {},
   "outputs": [
    {
     "data": {
      "text/plain": [
       "likelihood (generic function with 1 method)"
      ]
     },
     "execution_count": 85,
     "metadata": {},
     "output_type": "execute_result"
    }
   ],
   "source": [
    "function likelihood(players, results, squads)\n",
    "    if typeof(players) != Dict{Int64, Vector{Float64}}\n",
    "        all_players = Dict{Int64, Vector{Float64}}()\n",
    "        if size(players, 2) != 2\n",
    "            players = reshape(players, (Int(length(players) // 2), 2));\n",
    "        end\n",
    "        \n",
    "        for i in 1:size(players, 1)\n",
    "            all_players[i] = players[i, :];\n",
    "        end\n",
    "    else\n",
    "        all_players = players;\n",
    "    end\n",
    "    loglikelihood = 0\n",
    "    for i in 1:length(squads)\n",
    "        clubs, ppc = size(squads[i]);\n",
    "        clubs_atks = convert(Matrix{Float64}, (deepcopy(squads[i])));\n",
    "        clubs_defs = convert(Matrix{Float64}, (deepcopy(squads[i])));\n",
    "        for j in 1:size(squads[i], 1)\n",
    "            for k in 1:size(squads[i], 2)\n",
    "                clubs_atks[j, k] = all_players[squads[i][j, k]][1];\n",
    "                clubs_defs[j, k] = all_players[squads[i][j, k]][2];\n",
    "            end\n",
    "        end\n",
    "        for j in 1:length(results[i])\n",
    "            clubₕ, scoreₕ, scoreₐ, clubₐ = results[i][j]\n",
    "            loglikelihood -= logpdf(Poisson(sum(clubs_atks[clubₕ, :]) / sum(clubs_defs[clubₐ, :])),\n",
    "                                    scoreₕ)\n",
    "            loglikelihood -= logpdf(Poisson(sum(clubs_atks[clubₐ, :]) / sum(clubs_defs[clubₕ, :])),\n",
    "                                    scoreₐ)\n",
    "        end\n",
    "    end\n",
    "    \n",
    "    return loglikelihood\n",
    "end"
   ]
  },
  {
   "cell_type": "code",
   "execution_count": 86,
   "id": "c2b1f250",
   "metadata": {
    "scrolled": true
   },
   "outputs": [
    {
     "name": "stdout",
     "output_type": "stream",
     "text": [
      "10070.610480049134\n",
      "10648.134451724087\n"
     ]
    }
   ],
   "source": [
    "results, squads, players = create_games(10, 20, 11);\n",
    "println(likelihood(players, results, squads));\n",
    "players = rand((1, 2), (2 * 20 * 11, ));\n",
    "println(likelihood(players, results, squads));"
   ]
  },
  {
   "cell_type": "code",
   "execution_count": 87,
   "id": "6ba53528",
   "metadata": {},
   "outputs": [],
   "source": [
    "# FALTA EDITAR ESSA\n",
    "function gradient(players, results, squads)\n",
    "    if typeof(players) != Dict{Int64, Vector{Float64}}\n",
    "        all_players = Dict{Int64, Vector{Float64}}()\n",
    "        if size(players, 2) != 2\n",
    "            players = reshape(players, (Int(length(players) // 2), 2));\n",
    "        end\n",
    "        \n",
    "        for i in 1:size(players, 1)\n",
    "            all_players[i] = players[i, :];\n",
    "        end\n",
    "    else\n",
    "        all_players = players;\n",
    "    end\n",
    "    p = size(players, 1)\n",
    "    ∇likelihood = zeros(2 * length(all_players))\n",
    "    for season in 1:length(results)\n",
    "        for game in 1:length(results[season])\n",
    "            clubₕ, kₕ, kₐ, clubₐ = results[season][game]\n",
    "            λ₁ₕ, λ₁ₐ, λ₂ₕ, λ₂ₐ = 0, 0, 0, 0\n",
    "            Cₕ, Cₐ = squads[season][clubₕ, :], squads[season][clubₐ, :]\n",
    "            for k in 1:size(squads[season], 2)\n",
    "                λ₁ₕ += all_players[Cₕ[k]][1]\n",
    "                λ₁ₐ += all_players[Cₐ[k]][1]\n",
    "                λ₂ₕ += all_players[Cₕ[k]][2]\n",
    "                λ₂ₐ += all_players[Cₐ[k]][2]\n",
    "            end\n",
    "            \n",
    "            for i in 1:p\n",
    "                j = i + p\n",
    "                ∇likelihood[i] -= (kₕ/λ₁ₕ - 1 / λ₂ₐ) * (i in Cₕ)\n",
    "                ∇likelihood[i] -= (kₐ/λ₁ₐ - 1 / λ₂ₕ) * (i in Cₐ)\n",
    "                ∇likelihood[j] -= (- kₕ/λ₂ₐ + λ₁ₕ / (λ₂ₐ^2)) * (i in Cₐ)\n",
    "                ∇likelihood[j] -= (- kₐ/λ₂ₕ + λ₁ₐ / (λ₂ₕ^2)) * (i in Cₕ)\n",
    "            end\n",
    "        end\n",
    "    end\n",
    "    \n",
    "    return ∇likelihood\n",
    "end;"
   ]
  },
  {
   "cell_type": "code",
   "execution_count": 88,
   "id": "fe4161a6",
   "metadata": {},
   "outputs": [
    {
     "data": {
      "text/plain": [
       "440-element Vector{Float64}:\n",
       " -1.980643255952856\n",
       " -0.6302310735360279\n",
       " -1.6449110143382584\n",
       " -4.730234144940033\n",
       " -0.9803176871288337\n",
       "  0.27060373407122706\n",
       "  1.2067454174652326\n",
       " -1.6219241542770948\n",
       "  2.801218260583584\n",
       "  0.1048529600774169\n",
       "  0.7116751626426535\n",
       " -0.11894857808170559\n",
       " -0.8875250437556936\n",
       "  ⋮\n",
       "  3.8210181468053444\n",
       " -0.1678368229099921\n",
       " -0.645351802703803\n",
       "  0.825755026263517\n",
       "  1.6657489245426607\n",
       "  0.6779309940229663\n",
       "  0.192604099257733\n",
       "  3.2908557713705\n",
       "  2.448676146384482\n",
       " -2.835985869838135\n",
       " -2.263712229990038\n",
       "  5.112927463406407"
      ]
     },
     "execution_count": 88,
     "metadata": {},
     "output_type": "execute_result"
    }
   ],
   "source": [
    "gradient(players, results, squads)"
   ]
  },
  {
   "cell_type": "code",
   "execution_count": null,
   "id": "591541ce",
   "metadata": {},
   "outputs": [],
   "source": []
  },
  {
   "cell_type": "code",
   "execution_count": null,
   "id": "88564174",
   "metadata": {},
   "outputs": [],
   "source": []
  },
  {
   "cell_type": "markdown",
   "id": "b35e3068",
   "metadata": {},
   "source": [
    "# Otimizando"
   ]
  },
  {
   "cell_type": "code",
   "execution_count": 89,
   "id": "21fd61f4",
   "metadata": {
    "scrolled": true
   },
   "outputs": [
    {
     "name": "stdout",
     "output_type": "stream",
     "text": [
      "  0.024141 seconds (73.79 k allocations: 4.015 MiB)\n"
     ]
    },
    {
     "ename": "LoadError",
     "evalue": "MethodError: \u001b[0mCannot `convert` an object of type \u001b[92mVector{Float64}\u001b[39m\u001b[0m to an object of type \u001b[91mFloat64\u001b[39m\n\u001b[0mClosest candidates are:\n\u001b[0m  convert(::Type{T}, \u001b[91m::Base.TwicePrecision\u001b[39m) where T<:Number at twiceprecision.jl:250\n\u001b[0m  convert(::Type{T}, \u001b[91m::AbstractChar\u001b[39m) where T<:Number at char.jl:180\n\u001b[0m  convert(::Type{T}, \u001b[91m::CartesianIndex{1}\u001b[39m) where T<:Number at multidimensional.jl:136\n\u001b[0m  ...",
     "output_type": "error",
     "traceback": [
      "MethodError: \u001b[0mCannot `convert` an object of type \u001b[92mVector{Float64}\u001b[39m\u001b[0m to an object of type \u001b[91mFloat64\u001b[39m\n\u001b[0mClosest candidates are:\n\u001b[0m  convert(::Type{T}, \u001b[91m::Base.TwicePrecision\u001b[39m) where T<:Number at twiceprecision.jl:250\n\u001b[0m  convert(::Type{T}, \u001b[91m::AbstractChar\u001b[39m) where T<:Number at char.jl:180\n\u001b[0m  convert(::Type{T}, \u001b[91m::CartesianIndex{1}\u001b[39m) where T<:Number at multidimensional.jl:136\n\u001b[0m  ...",
      "",
      "Stacktrace:",
      " [1] setindex!(::Matrix{Float64}, ::Vector{Float64}, ::Int64, ::Int64)",
      "   @ Base ./array.jl:841",
      " [2] top-level scope",
      "   @ ./In[89]:10",
      " [3] eval",
      "   @ ./boot.jl:360 [inlined]",
      " [4] include_string(mapexpr::typeof(REPL.softscope), mod::Module, code::String, filename::String)",
      "   @ Base ./loading.jl:1094"
     ]
    }
   ],
   "source": [
    "seasons = 10\n",
    "n_clubs = 20\n",
    "ppc = 11\n",
    "\n",
    "# compilando\n",
    "results, squads, players = @time create_games(seasons, n_clubs, ppc)\n",
    "clubs = convert(Matrix{Float64}, (deepcopy(last(squads))))\n",
    "for i in 1:n_clubs\n",
    "    for j in 1:ppc\n",
    "        clubs[i, j] = players[clubs[i, j]]\n",
    "    end\n",
    "end\n",
    "\n",
    "@time likelihood(players, results, squads)\n",
    "@time gradient(players, results, squads, zeros(length(players)))\n",
    "\n",
    "# reexecutando\n",
    "results, squads, players = @time create_games(seasons, n_clubs, ppc)\n",
    "clubs = convert(Matrix{Float64}, (deepcopy(last(squads))))\n",
    "for i in 1:n_clubs\n",
    "    for j in 1:ppc\n",
    "        clubs[i, j] = players[clubs[i, j]]\n",
    "    end\n",
    "end\n",
    "\n",
    "@time likelihood(players, results, squads)\n",
    "@time gradient(players, results, squads, zeros(length(players)))\n",
    "println()"
   ]
  },
  {
   "cell_type": "code",
   "execution_count": 90,
   "id": "3f0e333e",
   "metadata": {
    "scrolled": true
   },
   "outputs": [
    {
     "data": {
      "text/plain": [
       "ValueIterator for a Dict{Int64, Vector{Float64}} with 220 entries. Values:\n",
       "  [0.023575951040244635, 0.06583108069906998]\n",
       "  [0.0009186737867302627, 0.037687501143288504]\n",
       "  [0.02001256464226446, 0.06059764311025076]\n",
       "  [0.01139100378654155, 0.012073373478108359]\n",
       "  [0.030756989125094683, 0.023176187806510914]\n",
       "  [0.024836261901395058, 0.03187689603308066]\n",
       "  [0.011872905277594105, 0.0296950342472347]\n",
       "  [0.04931278029475757, 0.024276698559764578]\n",
       "  [0.019589657695884385, 0.09757786361406724]\n",
       "  [0.013525493242673384, 0.06387452329271752]\n",
       "  [0.06947450599777226, 0.026358347815781887]\n",
       "  [0.030181591867424504, 0.052367232769549917]\n",
       "  [0.02175542176273661, 0.05738477543635949]\n",
       "  [0.0771154131332652, 0.037540438511127025]\n",
       "  [0.025283949454591552, 0.02372421391084237]\n",
       "  [0.029401325125274474, 0.10330888959644262]\n",
       "  [0.00910333896418747, 0.018307012422791966]\n",
       "  [0.0500369739636586, 0.02004158846491057]\n",
       "  [0.027638233392130264, 0.034095901126158304]\n",
       "  [0.02581500268278313, 0.06170698414811822]\n",
       "  [0.014512785498168175, 0.045698939056822964]\n",
       "  [0.00643724382226034, 0.015590760525513355]\n",
       "  [0.047330515278240774, 0.030934901113397067]\n",
       "  [0.08366985822491818, 0.06681359475399223]\n",
       "  [0.06291590547047761, 0.019580655474063565]\n",
       "  ⋮"
      ]
     },
     "execution_count": 90,
     "metadata": {},
     "output_type": "execute_result"
    }
   ],
   "source": [
    "values(players)"
   ]
  },
  {
   "cell_type": "code",
   "execution_count": 5,
   "id": "dbd04f6d",
   "metadata": {},
   "outputs": [
    {
     "data": {
      "text/plain": [
       "(10560.228268364872, 10005.691447429792)"
      ]
     },
     "execution_count": 5,
     "metadata": {},
     "output_type": "execute_result"
    }
   ],
   "source": [
    "a = zeros(220)\n",
    "opt_a = []\n",
    "opt_value = Inf\n",
    "for i in 1:220\n",
    "    a = rand(220)\n",
    "#     for j in 1:220\n",
    "#         a[j] = 1 / rand(1:10)\n",
    "#         println(a)\n",
    "#     end\n",
    "    value = likelihood(a, results, squads)\n",
    "    if opt_value > value\n",
    "        opt_a = a\n",
    "        opt_value = value\n",
    "    end\n",
    "end\n",
    "\n",
    "opt_value, likelihood(players, results, squads)"
   ]
  },
  {
   "cell_type": "markdown",
   "id": "a46a2110",
   "metadata": {},
   "source": [
    "# Teste para Otimização"
   ]
  },
  {
   "cell_type": "code",
   "execution_count": 6,
   "id": "c024e5a1",
   "metadata": {},
   "outputs": [
    {
     "name": "stdout",
     "output_type": "stream",
     "text": [
      "  5.482042 seconds (21.72 M allocations: 1.471 GiB, 8.51% gc time, 57.82% compilation time)\n",
      "  5.969408 seconds (38.98 M allocations: 1.708 GiB, 3.93% gc time, 22.05% compilation time)\n",
      "2735.770718 seconds (18.61 G allocations: 803.971 GiB, 4.13% gc time, 0.02% compilation time)\n",
      "\n"
     ]
    }
   ],
   "source": [
    "f(x) = likelihood(x, results, squads)\n",
    "g(∇likelihood, x) = gradient(x, results, squads, ∇likelihood)\n",
    "lower = zeros(220)\n",
    "upper = 20 * ones(220)\n",
    "x_inicial = rand(220)\n",
    "od = OnceDifferentiable(f, g, x_inicial)\n",
    "@time res1  = optimize(od,\n",
    "                       lower,\n",
    "                       upper,\n",
    "                       x_inicial,\n",
    "                       Fminbox(GradientDescent()),\n",
    "                       Optim.Options(iterations = 1000))\n",
    "@time res2  = optimize(od,\n",
    "                       lower,\n",
    "                       upper,\n",
    "                       x_inicial,\n",
    "                       Fminbox(NelderMead()),\n",
    "                       Optim.Options(iterations = 1000))\n",
    "@time res3 = optimize(x -> likelihood(x, results, squads),\n",
    "                      lower,\n",
    "                      upper,\n",
    "                      x_inicial,\n",
    "                      Fminbox(NelderMead()),\n",
    "                      Optim.Options(iterations = 1000))\n",
    "\n",
    "println()"
   ]
  },
  {
   "cell_type": "code",
   "execution_count": 7,
   "id": "28682f0c",
   "metadata": {},
   "outputs": [
    {
     "data": {
      "text/plain": [
       "(true, [0.8064053988114606, 0.7083505250259312, 0.38896408674999017, 0.465292671883069, 0.21192459102565175, 0.05524560321118832, 0.03523755170947118, 0.6273807703084375, 0.1274308824242314, 0.8584145403039296  …  0.9076812210334986, 0.3917834086618406, 0.22962074812279298, 0.5259030236350959, 0.8970130429558458, 0.608138140231612, 0.25857237624124796, 0.6419585750004564, 0.04151790216435258, 0.8405438188487186], 10739.503593434052, 10005.691447429792)"
      ]
     },
     "execution_count": 7,
     "metadata": {},
     "output_type": "execute_result"
    }
   ],
   "source": [
    "Optim.converged(res1), Optim.minimizer(res1), Optim.minimum(res1), likelihood(players, results, squads)"
   ]
  },
  {
   "cell_type": "code",
   "execution_count": 8,
   "id": "bb57468f",
   "metadata": {},
   "outputs": [
    {
     "name": "stdout",
     "output_type": "stream",
     "text": [
      "Correlação de Pearson: 0.006183945148015716\n",
      "Correlação de Spearman: -0.003596242597048399\n",
      "Correlação de Kendall: -0.0021585720215857203\n",
      "||Gradiente||: 329.68311552961467\n"
     ]
    }
   ],
   "source": [
    "max_lik_players = Dict{Int64, Float64}(zip(1:length(Optim.minimizer(res1)), Optim.minimizer(res1)))\n",
    "\n",
    "original_players = zeros(220)\n",
    "optimized_players = zeros(220)\n",
    "\n",
    "for i in 1:220\n",
    "    original_players[i] = players[i]\n",
    "    optimized_players[i] = max_lik_players[i]\n",
    "end\n",
    "\n",
    "original_players /= original_players[1]\n",
    "optimized_players /= optimized_players[1]\n",
    "grad = gradient(Optim.minimizer(res1), results, squads, zeros(length(players)))\n",
    "println(\"Correlação de Pearson: \", cor(original_players, optimized_players))\n",
    "println(\"Correlação de Spearman: \", corspearman(original_players, optimized_players))\n",
    "println(\"Correlação de Kendall: \", corkendall(original_players, optimized_players))\n",
    "println(\"||Gradiente||: \", norm(grad))"
   ]
  },
  {
   "cell_type": "code",
   "execution_count": 9,
   "id": "df4046b6",
   "metadata": {},
   "outputs": [
    {
     "data": {
      "text/plain": [
       "(true, [0.8064053988114606, 0.7083505250259312, 0.38896408674999017, 0.465292671883069, 0.21192459102565175, 0.05524560321118832, 0.03523755170947118, 0.6273807703084375, 0.1274308824242314, 0.8584145403039296  …  0.9076812210334986, 0.3917834086618406, 0.22962074812279298, 0.5259030236350959, 0.8970130429558458, 0.608138140231612, 0.25857237624124796, 0.6419585750004564, 0.04151790216435258, 0.8405438188487186], 10719.28862408449, 10005.691447429792)"
      ]
     },
     "execution_count": 9,
     "metadata": {},
     "output_type": "execute_result"
    }
   ],
   "source": [
    "Optim.converged(res2), Optim.minimizer(res2), Optim.minimum(res2), likelihood(players, results, squads)"
   ]
  },
  {
   "cell_type": "code",
   "execution_count": 10,
   "id": "0010452d",
   "metadata": {},
   "outputs": [
    {
     "name": "stdout",
     "output_type": "stream",
     "text": [
      "Correlação de Pearson: 0.01722695267248364\n",
      "Correlação de Spearman: 0.003408034350822425\n",
      "Correlação de Kendall: 0.0026567040265670404\n",
      "||Gradiente||: 320.7019309829996\n"
     ]
    }
   ],
   "source": [
    "max_lik_players = Dict{Int64, Float64}(zip(1:length(Optim.minimizer(res2)), Optim.minimizer(res2)))\n",
    "\n",
    "original_players = zeros(220)\n",
    "optimized_players = zeros(220)\n",
    "\n",
    "for i in 1:220\n",
    "    original_players[i] = players[i]\n",
    "    optimized_players[i] = max_lik_players[i]\n",
    "end\n",
    "\n",
    "original_players /= original_players[1]\n",
    "optimized_players /= optimized_players[1]\n",
    "grad = gradient(Optim.minimizer(res2), results, squads, zeros(length(players)))\n",
    "println(\"Correlação de Pearson: \", cor(original_players, optimized_players))\n",
    "println(\"Correlação de Spearman: \", corspearman(original_players, optimized_players))\n",
    "println(\"Correlação de Kendall: \", corkendall(original_players, optimized_players))\n",
    "println(\"||Gradiente||: \", norm(grad))"
   ]
  },
  {
   "cell_type": "code",
   "execution_count": null,
   "id": "9ae7599e",
   "metadata": {},
   "outputs": [],
   "source": [
    "Optim.converged(res3), Optim.minimizer(res3), Optim.minimum(res3), likelihood(players, results, squads)"
   ]
  },
  {
   "cell_type": "code",
   "execution_count": 92,
   "id": "19c82810",
   "metadata": {},
   "outputs": [
    {
     "ename": "LoadError",
     "evalue": "UndefVarError: res3 not defined",
     "output_type": "error",
     "traceback": [
      "UndefVarError: res3 not defined",
      "",
      "Stacktrace:",
      " [1] top-level scope",
      "   @ In[92]:1",
      " [2] eval",
      "   @ ./boot.jl:360 [inlined]",
      " [3] include_string(mapexpr::typeof(REPL.softscope), mod::Module, code::String, filename::String)",
      "   @ Base ./loading.jl:1094"
     ]
    }
   ],
   "source": [
    "max_lik_players = Dict{Int64, Float64}(zip(1:length(Optim.minimizer(res3)), Optim.minimizer(res3)))\n",
    "\n",
    "original_players = zeros(220)\n",
    "optimized_players = zeros(220)\n",
    "\n",
    "for i in 1:220\n",
    "    original_players[i] = players[i]\n",
    "    optimized_players[i] = max_lik_players[i]\n",
    "end\n",
    "\n",
    "original_players /= original_players[1]\n",
    "optimized_players /= optimized_players[1]\n",
    "grad = gradient(Optim.minimizer(res3), results, squads, zeros(length(players)))\n",
    "println(\"Correlação de Pearson: \", cor(original_players, optimized_players))\n",
    "println(\"Correlação de Spearman: \", corspearman(original_players, optimized_players))\n",
    "println(\"Correlação de Kendall: \", corkendall(original_players, optimized_players))\n",
    "println(\"||Gradiente||: \", norm(grad))"
   ]
  },
  {
   "cell_type": "code",
   "execution_count": 91,
   "id": "46082d8f",
   "metadata": {},
   "outputs": [
    {
     "ename": "LoadError",
     "evalue": "UndefVarError: res3 not defined",
     "output_type": "error",
     "traceback": [
      "UndefVarError: res3 not defined",
      "",
      "Stacktrace:",
      " [1] top-level scope",
      "   @ ./timing.jl:210 [inlined]",
      " [2] top-level scope",
      "   @ ./In[91]:0",
      " [3] eval",
      "   @ ./boot.jl:360 [inlined]",
      " [4] include_string(mapexpr::typeof(REPL.softscope), mod::Module, code::String, filename::String)",
      "   @ Base ./loading.jl:1094"
     ]
    }
   ],
   "source": [
    "@time res4  = optimize(od,\n",
    "                       lower,\n",
    "                       upper,\n",
    "                       Optim.minimizer(res3),\n",
    "                       Fminbox(GradientDescent()),\n",
    "                       Optim.Options(iterations = 1000))\n",
    "\n",
    "res4"
   ]
  },
  {
   "cell_type": "code",
   "execution_count": 14,
   "id": "ea674c28",
   "metadata": {},
   "outputs": [
    {
     "data": {
      "text/plain": [
       "true"
      ]
     },
     "execution_count": 14,
     "metadata": {},
     "output_type": "execute_result"
    }
   ],
   "source": [
    "Optim.minimizer(res3) == Optim.minimizer(res4)"
   ]
  }
 ],
 "metadata": {
  "kernelspec": {
   "display_name": "Julia 1.6.0",
   "language": "julia",
   "name": "julia-1.6"
  },
  "language_info": {
   "file_extension": ".jl",
   "mimetype": "application/julia",
   "name": "julia",
   "version": "1.6.0"
  }
 },
 "nbformat": 4,
 "nbformat_minor": 5
}
