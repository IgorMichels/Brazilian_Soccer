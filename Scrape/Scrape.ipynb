{
 "cells": [
  {
   "cell_type": "code",
   "execution_count": 1,
   "id": "bf48b001",
   "metadata": {},
   "outputs": [],
   "source": [
    "from IPython.display import clear_output\n",
    "from glob import glob\n",
    "import requests\n",
    "import json\n",
    "import csv\n",
    "import os\n",
    "\n",
    "from PyPDF2 import *"
   ]
  },
  {
   "cell_type": "code",
   "execution_count": 2,
   "id": "9867e8a4",
   "metadata": {},
   "outputs": [],
   "source": [
    "competitions = [('Serie_A', '142'),\n",
    "                ('Serie_B', '242'),\n",
    "                ('Serie_C', '342'),\n",
    "                ('Serie_D', '542'),\n",
    "                ('CdB', '424')]\n",
    "\n",
    "for competition in competitions:\n",
    "    name, cod = competition\n",
    "    if name not in os.listdir():\n",
    "        os.mkdir(name)\n",
    "    \n",
    "    os.chdir(name)\n",
    "    for year in range(2013, 2023):\n",
    "        if f'{year}' not in os.listdir():\n",
    "            os.mkdir(f'{year}')\n",
    "        \n",
    "        os.chdir(f'{year}')\n",
    "        if 'PDFs' not in os.listdir():\n",
    "            os.mkdir('PDFs')\n",
    "        \n",
    "        if 'CSVs' not in os.listdir():\n",
    "            os.mkdir('CSVs')\n",
    "        \n",
    "        os.chdir('..')\n",
    "    \n",
    "    os.chdir('..')"
   ]
  },
  {
   "cell_type": "code",
   "execution_count": 3,
   "id": "d63d75e1",
   "metadata": {},
   "outputs": [
    {
     "name": "stdout",
     "output_type": "stream",
     "text": [
      "Scrape finalizado!\n",
      "CPU times: user 16.2 s, sys: 825 ms, total: 17.1 s\n",
      "Wall time: 2min 45s\n"
     ]
    }
   ],
   "source": [
    "%%time\n",
    "with open('number_of_games.json', 'r') as f:\n",
    "    games = json.load(f)\n",
    "\n",
    "errors = {}\n",
    "for competition in competitions:\n",
    "    competition, cod = competition\n",
    "    errors[competition] = {}\n",
    "    for year in range(2013, 2023):\n",
    "        print(f'Iniciando ano de {year} para {competition.replace(\"_\", \" \")}')\n",
    "        files = glob(f'{competition}/{year}/CSVs/*.csv')\n",
    "        year = str(year)\n",
    "        errors[competition][year] = []\n",
    "        for game in range(1, games[competition][year]):\n",
    "            save = False\n",
    "            try:\n",
    "                name = f'{competition}/{year}/PDFs/{str(game).zfill(3)}.pdf'\n",
    "                if name.replace('PDFs', 'CSVs').replace('pdf', 'csv') in files:\n",
    "                    continue\n",
    "                \n",
    "                pdf = requests.get(f'https://conteudo.cbf.com.br/sumulas/{year}/{cod}{game}se.pdf').content\n",
    "                if b'File or directory not found' in pdf:\n",
    "                    errors[competition][year].append(name)\n",
    "                    continue\n",
    "\n",
    "                with open(name, 'wb') as f:\n",
    "                    f.write(pdf)\n",
    "                    save = True\n",
    "\n",
    "                reader = PdfReader(name)\n",
    "                doc = []\n",
    "                for i in range(len(reader.pages)):\n",
    "                    page = reader.pages[i]\n",
    "                    doc += page.extract_text().split('\\n')\n",
    "\n",
    "                for i in range(len(doc)):\n",
    "                    doc[i] = [doc[i]]\n",
    "\n",
    "                name = name.replace('PDFs', 'CSVs')\n",
    "                name = name.replace('pdf', 'csv')\n",
    "                with open(name, 'w') as f:\n",
    "                    write = csv.writer(f)\n",
    "                    write.writerows(doc)\n",
    "\n",
    "            except:\n",
    "                if save:\n",
    "                    name = name.replace('PDFs', 'CSVs')\n",
    "                    name = name.replace('pdf', 'csv')\n",
    "                    errors[competition][year].append(name)\n",
    "                else:\n",
    "                    errors[competition][year].append(name)\n",
    "\n",
    "        print(f'Finalizado ano de {year} para {competition.replace(\"_\", \" \")}\\n')\n",
    "    \n",
    "    clear_output()\n",
    "    \n",
    "with open('scrape_errors.json', 'w') as f:\n",
    "    json.dump(errors, f)\n",
    "    \n",
    "print('Scrape finalizado!')"
   ]
  }
 ],
 "metadata": {
  "kernelspec": {
   "display_name": "Python 3 (ipykernel)",
   "language": "python",
   "name": "python3"
  },
  "language_info": {
   "codemirror_mode": {
    "name": "ipython",
    "version": 3
   },
   "file_extension": ".py",
   "mimetype": "text/x-python",
   "name": "python",
   "nbconvert_exporter": "python",
   "pygments_lexer": "ipython3",
   "version": "3.8.10"
  }
 },
 "nbformat": 4,
 "nbformat_minor": 5
}
