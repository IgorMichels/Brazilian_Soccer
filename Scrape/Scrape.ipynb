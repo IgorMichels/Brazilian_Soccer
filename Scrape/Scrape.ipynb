{
 "cells": [
  {
   "cell_type": "code",
   "execution_count": 1,
   "id": "bf48b001",
   "metadata": {},
   "outputs": [],
   "source": [
    "from IPython.display import clear_output\n",
    "import requests\n",
    "import csv\n",
    "import os\n",
    "\n",
    "from PyPDF2 import *"
   ]
  },
  {
   "cell_type": "code",
   "execution_count": 2,
   "id": "9867e8a4",
   "metadata": {},
   "outputs": [],
   "source": [
    "competitions = [('Serie_A', '142'),\n",
    "                ('Serie_B', '242'),\n",
    "                ('Serie_C', '342'),\n",
    "                ('Serie_D', '542'),\n",
    "                ('CdB', '424')]\n",
    "\n",
    "for competition in competitions:\n",
    "    name, cod = competition\n",
    "    os.mkdir(name)\n",
    "    os.chdir(name)\n",
    "    for year in range(2013, 2023):\n",
    "        os.mkdir(f'{year}')\n",
    "        os.chdir(f'{year}')\n",
    "        os.mkdir('PDFs')\n",
    "        os.mkdir('CSVs')\n",
    "        os.chdir('..')\n",
    "    \n",
    "    os.chdir('..')"
   ]
  },
  {
   "cell_type": "code",
   "execution_count": 3,
   "id": "d63d75e1",
   "metadata": {},
   "outputs": [
    {
     "data": {
      "text/plain": [
       "2"
      ]
     },
     "execution_count": 3,
     "metadata": {},
     "output_type": "execute_result"
    }
   ],
   "source": [
    "errors = []\n",
    "for competition in competitions:\n",
    "    competition, cod = competition\n",
    "    for year in range(2013, 2023):\n",
    "        print(f'Iniciando ano de {year} para {competition.replace(\"_\", \" \")}')\n",
    "        cont = 0\n",
    "        for game in range(1, 1000):\n",
    "            if cont == 20:\n",
    "                break\n",
    "                \n",
    "            try:\n",
    "                name = f'{competition}/{year}/PDFs/{str(game).zfill(3)}.pdf'\n",
    "                pdf = requests.get(f'https://conteudo.cbf.com.br/sumulas/{year}/{cod}{game}se.pdf').content\n",
    "                if b'File or directory not found' in pdf:\n",
    "                    cont += 1\n",
    "                    continue\n",
    "\n",
    "                with open(name, 'wb') as f:\n",
    "                    f.write(pdf)\n",
    "\n",
    "                reader = PdfReader(name)\n",
    "                doc = []\n",
    "                for i in range(len(reader.pages)):\n",
    "                    page = reader.pages[i]\n",
    "                    doc += page.extract_text().split('\\n')\n",
    "\n",
    "                for i in range(len(doc)):\n",
    "                    doc[i] = [doc[i]]\n",
    "\n",
    "                name = name.replace('PDFs', 'CSVs')\n",
    "                name = name.replace('pdf', 'csv')\n",
    "                with open(name, 'w') as f:\n",
    "                    write = csv.writer(f)\n",
    "                    write.writerows(doc)\n",
    "\n",
    "            except:\n",
    "                errors.append(name)\n",
    "\n",
    "        print(f'Finalizado ano de {year} para {competition.replace(\"_\", \" \")}')\n",
    "    \n",
    "    clear_output()\n",
    "\n",
    "len(errors)"
   ]
  },
  {
   "cell_type": "code",
   "execution_count": 4,
   "id": "3e91c87b",
   "metadata": {},
   "outputs": [
    {
     "data": {
      "text/plain": [
       "['Serie_B/2020/PDFs/135.pdf', 'Serie_D/2020/PDFs/042.pdf']"
      ]
     },
     "execution_count": 4,
     "metadata": {},
     "output_type": "execute_result"
    }
   ],
   "source": [
    "errors"
   ]
  }
 ],
 "metadata": {
  "kernelspec": {
   "display_name": "Python 3 (ipykernel)",
   "language": "python",
   "name": "python3"
  },
  "language_info": {
   "codemirror_mode": {
    "name": "ipython",
    "version": 3
   },
   "file_extension": ".py",
   "mimetype": "text/x-python",
   "name": "python",
   "nbconvert_exporter": "python",
   "pygments_lexer": "ipython3",
   "version": "3.8.10"
  }
 },
 "nbformat": 4,
 "nbformat_minor": 5
}
