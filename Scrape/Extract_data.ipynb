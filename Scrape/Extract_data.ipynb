{
 "cells": [
  {
   "cell_type": "code",
   "execution_count": 1,
   "id": "3e221127",
   "metadata": {},
   "outputs": [],
   "source": [
    "from IPython.display import clear_output\n",
    "from functions import *\n",
    "from glob import glob\n",
    "\n",
    "import json"
   ]
  },
  {
   "cell_type": "code",
   "execution_count": 2,
   "id": "f958d032",
   "metadata": {},
   "outputs": [],
   "source": [
    "files = sorted(glob('*/*/*/*.csv'))\n",
    "errors = {}"
   ]
  },
  {
   "cell_type": "code",
   "execution_count": 3,
   "id": "23be39e7",
   "metadata": {},
   "outputs": [
    {
     "data": {
      "text/plain": [
       "70"
      ]
     },
     "execution_count": 3,
     "metadata": {},
     "output_type": "execute_result"
    }
   ],
   "source": [
    "clubs = []\n",
    "errors['clubs'] = []\n",
    "for i, file in enumerate(files):\n",
    "    if i % 1000 == 999:\n",
    "        clear_output()\n",
    "        print(i + 1)\n",
    "    \n",
    "    f = open(file)\n",
    "    data = f.readlines()\n",
    "    f.close()\n",
    "    text = ''\n",
    "    for row in data:\n",
    "        text += row\n",
    "\n",
    "    game_clubs = catch_teams(text)\n",
    "    if len(game_clubs) != 1:\n",
    "        errors['clubs'].append(file)\n",
    "    \n",
    "    clubs += game_clubs\n",
    "    \n",
    "clear_output()\n",
    "len(errors['clubs'])"
   ]
  },
  {
   "cell_type": "code",
   "execution_count": 4,
   "id": "e5dd10f1",
   "metadata": {},
   "outputs": [
    {
     "data": {
      "text/plain": [
       "8"
      ]
     },
     "execution_count": 4,
     "metadata": {},
     "output_type": "execute_result"
    }
   ],
   "source": [
    "players = []\n",
    "errors['players'] = []\n",
    "for i, file in enumerate(files):\n",
    "    if i % 1000 == 999:\n",
    "        clear_output()\n",
    "        print(i + 1)\n",
    "    \n",
    "    f = open(file)\n",
    "    data = f.readlines()\n",
    "    f.close()\n",
    "    text = ''\n",
    "    for row in data:\n",
    "        text += row\n",
    "\n",
    "    game_players = re.findall('(\\d+\\D+[P|A|)|T|R]\\s*\\d{6})', text)\n",
    "    if len(game_players) < 22:\n",
    "        errors['players'].append(file)\n",
    "    \n",
    "    players += game_players\n",
    "    \n",
    "clear_output()\n",
    "len(errors['players'])"
   ]
  },
  {
   "cell_type": "code",
   "execution_count": 5,
   "id": "09f4853a",
   "metadata": {},
   "outputs": [
    {
     "data": {
      "text/plain": [
       "2"
      ]
     },
     "execution_count": 5,
     "metadata": {},
     "output_type": "execute_result"
    }
   ],
   "source": [
    "results = []\n",
    "errors['results'] = []\n",
    "for i, file in enumerate(files):\n",
    "    if i % 1000 == 999:\n",
    "        clear_output()\n",
    "        print(i + 1)\n",
    "    \n",
    "    f = open(file)\n",
    "    data = f.readlines()\n",
    "    f.close()\n",
    "    text = ''\n",
    "    for row in data:\n",
    "        text += row\n",
    "\n",
    "    result = final_result(text)\n",
    "    if len(result) != 1:\n",
    "        errors['results'].append(file)\n",
    "    \n",
    "    results += result\n",
    "    \n",
    "clear_output()\n",
    "len(errors['results'])"
   ]
  },
  {
   "cell_type": "code",
   "execution_count": 6,
   "id": "111b1efc",
   "metadata": {
    "scrolled": false
   },
   "outputs": [
    {
     "data": {
      "text/plain": [
       "26"
      ]
     },
     "execution_count": 6,
     "metadata": {},
     "output_type": "execute_result"
    }
   ],
   "source": [
    "goals = []\n",
    "errors['goals'] = []\n",
    "for i, file in enumerate(files):\n",
    "    if i % 1000 == 999:\n",
    "        clear_output()\n",
    "        print(i + 1)\n",
    "    \n",
    "    f = open(file)\n",
    "    data = f.readlines()\n",
    "    f.close()\n",
    "    text = ''\n",
    "    for row in data:\n",
    "        text += row\n",
    "    \n",
    "    result = final_result(text)\n",
    "    if len(result) != 0:\n",
    "        result = result[0].split()\n",
    "        game_goals = catch_goals(text)\n",
    "        n_goals = int(result[0]) + int(result[-1])\n",
    "        if len(game_goals) != n_goals:\n",
    "            errors['goals'].append(file)\n",
    "\n",
    "        goals += game_goals\n",
    "    \n",
    "clear_output()\n",
    "len(errors['goals'])"
   ]
  },
  {
   "cell_type": "code",
   "execution_count": 7,
   "id": "c623a924",
   "metadata": {},
   "outputs": [],
   "source": [
    "with open('errors.json', 'w') as f:\n",
    "    json.dump(errors, f)"
   ]
  },
  {
   "cell_type": "code",
   "execution_count": null,
   "id": "5b36d7fd",
   "metadata": {},
   "outputs": [],
   "source": []
  },
  {
   "cell_type": "code",
   "execution_count": 8,
   "id": "0a932150",
   "metadata": {},
   "outputs": [],
   "source": [
    "def find_changes(text):\n",
    "    regex = '\\d{2}:\\d{2}\\s*\\dT[a-zA-ZÀ-ÿ\\-\\.\\s]+\\/[A-Z]{2}\\s*'\n",
    "    regex += '\\d+\\s*\\-\\s*[a-zA-ZÀ-ÿ\\-\\.\\s]+\\d+\\s*\\-\\s*[a-zA-ZÀ-ÿ\\-\\. ]+'\n",
    "    subs  = re.findall(regex, text)\n",
    "    \n",
    "    regex = '\\d{2}:\\d{2}\\s*[a-zA-ZÀ-ÿ\\-\\.\\s]+\\/[A-Z]{2}\\s*'\n",
    "    regex += '\\d+\\s*\\-\\s*[a-zA-ZÀ-ÿ\\-\\.\\s]+\\d+\\s*\\-\\s*[a-zA-ZÀ-ÿ\\-\\. ]+'\n",
    "    subs += re.findall(regex, text)\n",
    "    \n",
    "    return subs"
   ]
  },
  {
   "cell_type": "code",
   "execution_count": 9,
   "id": "7551a743",
   "metadata": {},
   "outputs": [
    {
     "data": {
      "text/plain": [
       "[]"
      ]
     },
     "execution_count": 9,
     "metadata": {},
     "output_type": "execute_result"
    }
   ],
   "source": [
    "f = open(files[100])\n",
    "data = f.readlines()\n",
    "f.close()\n",
    "text = ''\n",
    "for row in data:\n",
    "    text += row\n",
    "\n",
    "find_changes(text)"
   ]
  },
  {
   "cell_type": "code",
   "execution_count": 10,
   "id": "0f88f0f7",
   "metadata": {},
   "outputs": [
    {
     "name": "stdout",
     "output_type": "stream",
     "text": [
      "Substituições\n",
      "Tempo 1T/2T Equipe Entrou Saiu\n",
      "16:00 Resende 17 - Clebson Fontoura Souto 9 - Alberto Martin Acosta Mar ...\n",
      "17:00 Cruzeiro 27 - Jose Elber Pimentel da Si ... 17 - Everton Augusto de Barros ...\n",
      "24:00 Cruzeiro 21 - Lucca Borges de Brito 11 - Dagoberto Pelentier\n",
      "00:00 Cruzeiro 16 - Lucas Silva Borges 19 - Nilton Ferreira Junior\n",
      "00:00 Resende 14 - Deoclecio dos Santos Mart ... 5 - Denilson Leocadio Nascime ...\n",
      "00:00 Resende 16 - Vinicius Moreira Casao 7 - Gustavo Dresch\n",
      "Confederação Brasileira de Futebol Publicação da Súmula: 23/05/2013 1:21 Emissão desta via: 23/09/2013 18:41 Página 3/3\n",
      "\n"
     ]
    }
   ],
   "source": [
    "print(text[text.find('Substituições'):])"
   ]
  },
  {
   "cell_type": "code",
   "execution_count": null,
   "id": "f608f6ed",
   "metadata": {},
   "outputs": [],
   "source": []
  },
  {
   "cell_type": "code",
   "execution_count": null,
   "id": "e64247b1",
   "metadata": {},
   "outputs": [],
   "source": []
  },
  {
   "cell_type": "code",
   "execution_count": null,
   "id": "faae31c3",
   "metadata": {},
   "outputs": [],
   "source": []
  },
  {
   "cell_type": "code",
   "execution_count": null,
   "id": "ca8d23c9",
   "metadata": {},
   "outputs": [],
   "source": []
  }
 ],
 "metadata": {
  "kernelspec": {
   "display_name": "Python 3 (ipykernel)",
   "language": "python",
   "name": "python3"
  },
  "language_info": {
   "codemirror_mode": {
    "name": "ipython",
    "version": 3
   },
   "file_extension": ".py",
   "mimetype": "text/x-python",
   "name": "python",
   "nbconvert_exporter": "python",
   "pygments_lexer": "ipython3",
   "version": "3.8.10"
  }
 },
 "nbformat": 4,
 "nbformat_minor": 5
}
